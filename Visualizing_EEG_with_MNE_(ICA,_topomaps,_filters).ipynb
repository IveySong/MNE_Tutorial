{
  "metadata": {
    "kernelspec": {
      "language": "python",
      "display_name": "Python 3",
      "name": "python3"
    },
    "language_info": {
      "pygments_lexer": "ipython3",
      "nbconvert_exporter": "python",
      "version": "3.6.4",
      "file_extension": ".py",
      "codemirror_mode": {
        "name": "ipython",
        "version": 3
      },
      "name": "python",
      "mimetype": "text/x-python"
    },
    "colab": {
      "name": "Visualizing EEG with MNE (ICA, topomaps, filters)",
      "provenance": [],
      "include_colab_link": true
    }
  },
  "nbformat_minor": 0,
  "nbformat": 4,
  "cells": [
    {
      "cell_type": "markdown",
      "metadata": {
        "id": "view-in-github",
        "colab_type": "text"
      },
      "source": [
        "<a href=\"https://colab.research.google.com/github/IveySong/MNE_Tutorial/blob/main/Visualizing_EEG_with_MNE_(ICA%2C_topomaps%2C_filters).ipynb\" target=\"_parent\"><img src=\"https://colab.research.google.com/assets/colab-badge.svg\" alt=\"Open In Colab\"/></a>"
      ]
    },
    {
      "source": [
        "# IMPORTANT: RUN THIS CELL IN ORDER TO IMPORT YOUR KAGGLE DATA SOURCES,\n",
        "# THEN FEEL FREE TO DELETE THIS CELL.\n",
        "# NOTE: THIS NOTEBOOK ENVIRONMENT DIFFERS FROM KAGGLE'S PYTHON\n",
        "# ENVIRONMENT SO THERE MAY BE MISSING LIBRARIES USED BY YOUR\n",
        "# NOTEBOOK.\n",
        "import kagglehub\n",
        "nnair25_alcoholics_path = kagglehub.dataset_download('nnair25/Alcoholics')\n",
        "\n",
        "print('Data source import complete.')\n"
      ],
      "metadata": {
        "id": "66KQNzFUVX1Y"
      },
      "cell_type": "code",
      "outputs": [],
      "execution_count": null
    },
    {
      "cell_type": "markdown",
      "source": [
        "# MNE Tutorial: Different ways of visualizing an EEG signal\n",
        "This notebook will teach you how to use the MNE library to plot EEG data."
      ],
      "metadata": {
        "id": "HKp4SQVHVX1Z"
      }
    },
    {
      "cell_type": "code",
      "source": [
        "import mne # MNE is already installed in the kaggle image. pip install is not required.\n",
        "\n",
        "import numpy as np\n",
        "import pandas as pd\n",
        "import os\n",
        "from tqdm import tqdm\n",
        "import glob\n",
        "from matplotlib import pyplot as plt"
      ],
      "metadata": {
        "_uuid": "8f2839f25d086af736a60e9eeb907d3b93b6e0e5",
        "_cell_guid": "b1076dfc-b9ad-4769-8c92-a6c4dae69d19",
        "execution": {
          "iopub.status.busy": "2022-01-17T13:55:43.656781Z",
          "iopub.execute_input": "2022-01-17T13:55:43.657427Z",
          "iopub.status.idle": "2022-01-17T13:55:45.124389Z",
          "shell.execute_reply.started": "2022-01-17T13:55:43.657331Z",
          "shell.execute_reply": "2022-01-17T13:55:45.123644Z"
        },
        "trusted": true,
        "id": "hWSXtmaXVX1a"
      },
      "execution_count": null,
      "outputs": []
    },
    {
      "cell_type": "markdown",
      "source": [
        "# Loading the dataset\n",
        "This dataset comes in separate csv files. We will concat them into a single Pandas DataFrame."
      ],
      "metadata": {
        "id": "ULpNGafhVX1a"
      }
    },
    {
      "cell_type": "code",
      "source": [
        "_dfs_list = []\n",
        "for csv_filename in tqdm(glob.glob('../input/Alcoholics/SMNI_CMI_TRAIN/*.csv')):\n",
        "    _dfs_list.append(pd.read_csv(csv_filename))\n",
        "df = pd.concat(_dfs_list)\n",
        "del(_dfs_list)\n",
        "df = df.drop(['Unnamed: 0'], axis=1)\n",
        "df.head(3)"
      ],
      "metadata": {
        "execution": {
          "iopub.status.busy": "2022-01-17T13:55:45.125665Z",
          "iopub.execute_input": "2022-01-17T13:55:45.125873Z",
          "iopub.status.idle": "2022-01-17T13:56:05.085961Z",
          "shell.execute_reply.started": "2022-01-17T13:55:45.125834Z",
          "shell.execute_reply": "2022-01-17T13:56:05.085171Z"
        },
        "trusted": true,
        "id": "NDtwmmljVX1a"
      },
      "execution_count": null,
      "outputs": []
    },
    {
      "cell_type": "code",
      "source": [
        "# correct the 'sensor position' names\n",
        "\n",
        "channel_list = list(set(df['sensor position']))\n",
        "channel_list.sort()\n",
        "\n",
        "channel_mapping = {\n",
        "    'AFZ':'AFz',\n",
        "    'CPZ':'CPz',\n",
        "    'CZ':'Cz',\n",
        "    'FCZ':'FCz',\n",
        "    'FP1':'Fp1',\n",
        "    'FP2':'Fp2',\n",
        "    'FPZ':'Fpz',\n",
        "    'FZ':'Fz',\n",
        "    'OZ':'Oz',\n",
        "    'POZ':'POz',\n",
        "    'PZ':'Pz',\n",
        "}\n",
        "\n",
        "channel_mapping_full = dict()\n",
        "\n",
        "for ch in channel_list:\n",
        "    if ch in channel_mapping:\n",
        "        channel_mapping_full[ch] = channel_mapping[ch]\n",
        "    else:\n",
        "        channel_mapping_full[ch] = ch\n",
        "\n",
        "channel_list_fixed = [channel_mapping_full[ch] for ch in channel_list]\n",
        "\n",
        "df['sensor position'] = df['sensor position'].map(channel_mapping_full)\n",
        "df.head(3)"
      ],
      "metadata": {
        "execution": {
          "iopub.status.busy": "2022-01-17T13:56:17.285119Z",
          "iopub.execute_input": "2022-01-17T13:56:17.28544Z",
          "iopub.status.idle": "2022-01-17T13:56:19.16108Z",
          "shell.execute_reply.started": "2022-01-17T13:56:17.285407Z",
          "shell.execute_reply": "2022-01-17T13:56:19.160323Z"
        },
        "trusted": true,
        "id": "VaRgp8TEVX1a"
      },
      "execution_count": null,
      "outputs": []
    },
    {
      "cell_type": "code",
      "source": [
        "# transpose the table to make the data extraction easier\n",
        "\n",
        "transposed_df_list = []\n",
        "\n",
        "for group_df in tqdm(df.groupby(['name', 'trial number', 'matching condition', 'sensor position', 'subject identifier'])):\n",
        "    _df = pd.DataFrame(group_df[1]['sensor value']).T\n",
        "    _df.columns = [f'sample_{idx}' for idx in range(256)]\n",
        "    _df['name'] = group_df[0][0]\n",
        "    _df['trial number'] = group_df[0][1]\n",
        "    _df['matching condition'] = group_df[0][2]\n",
        "    _df['sensor position'] = group_df[0][3]\n",
        "    _df['subject identifier'] = group_df[0][4]\n",
        "\n",
        "    transposed_df_list.append(_df)\n",
        "\n",
        "df = pd.concat(transposed_df_list)\n",
        "df = df[[*df.columns[-5:],*df.columns[0:-5]]]\n",
        "df = df.reset_index(drop=True)\n",
        "df.head(3)"
      ],
      "metadata": {
        "execution": {
          "iopub.status.busy": "2022-01-17T13:56:19.247357Z",
          "iopub.execute_input": "2022-01-17T13:56:19.247666Z",
          "iopub.status.idle": "2022-01-17T13:58:14.52393Z",
          "shell.execute_reply.started": "2022-01-17T13:56:19.247629Z",
          "shell.execute_reply": "2022-01-17T13:58:14.523161Z"
        },
        "trusted": true,
        "id": "Nt0q4LHzVX1b"
      },
      "execution_count": null,
      "outputs": []
    },
    {
      "cell_type": "markdown",
      "source": [
        "# Displaying raw signal as an image\n",
        "You can use the images for CNN training"
      ],
      "metadata": {
        "id": "Onn9JV2RVX1b"
      }
    },
    {
      "cell_type": "code",
      "source": [
        "def get_record_df(df, name, trial_number, matching_condition, channel_list):\n",
        "    df_record = df[df['name'].eq(name) & df['trial number'].eq(trial_number) & df['matching condition'].eq(matching_condition)].set_index(['sensor position']).loc[channel_list]\n",
        "    return df_record\n",
        "\n",
        "df_record = get_record_df(df, 'co2a0000364', 0, 'S1 obj', channel_list_fixed)\n",
        "df_record"
      ],
      "metadata": {
        "execution": {
          "iopub.status.busy": "2022-01-17T13:58:14.525689Z",
          "iopub.execute_input": "2022-01-17T13:58:14.526488Z",
          "iopub.status.idle": "2022-01-17T13:58:14.574545Z",
          "shell.execute_reply.started": "2022-01-17T13:58:14.52644Z",
          "shell.execute_reply": "2022-01-17T13:58:14.573857Z"
        },
        "trusted": true,
        "id": "lnaeXiTaVX1b"
      },
      "execution_count": null,
      "outputs": []
    },
    {
      "cell_type": "code",
      "source": [
        "def get_signal_array(df, name, trial_number, matching_condition, channel_list):\n",
        "    df_record = get_record_df(df, name, trial_number, matching_condition, channel_list)\n",
        "    return df_record.to_numpy()[:, 4:]\n",
        "\n",
        "signal_array = get_signal_array(df, 'co2a0000364', 10, 'S1 obj', channel_list_fixed)\n",
        "signal_array.shape"
      ],
      "metadata": {
        "execution": {
          "iopub.status.busy": "2022-01-17T13:58:14.575634Z",
          "iopub.execute_input": "2022-01-17T13:58:14.575903Z",
          "iopub.status.idle": "2022-01-17T13:58:14.594493Z",
          "shell.execute_reply.started": "2022-01-17T13:58:14.575869Z",
          "shell.execute_reply": "2022-01-17T13:58:14.593984Z"
        },
        "trusted": true,
        "id": "1x-t_wBLVX1b"
      },
      "execution_count": null,
      "outputs": []
    },
    {
      "cell_type": "code",
      "source": [
        "plt.title('Signal array as an image (64 x 256)')\n",
        "plt.ylabel('Channels (sensor position)');\n",
        "plt.xlabel('Sample number');\n",
        "plt.imshow(signal_array.astype(int));\n",
        "plt.show()\n",
        "\n",
        "channels_to_display = ['AF1', 'CP3', 'F1']\n",
        "for channel in channels_to_display:\n",
        "    plt.xlabel('Sample number');\n",
        "    plt.plot(signal_array[channel_list.index(channel)]);\n",
        "plt.legend(channels_to_display);"
      ],
      "metadata": {
        "execution": {
          "iopub.status.busy": "2022-01-17T14:04:08.896472Z",
          "iopub.execute_input": "2022-01-17T14:04:08.896783Z",
          "iopub.status.idle": "2022-01-17T14:04:09.32014Z",
          "shell.execute_reply.started": "2022-01-17T14:04:08.89675Z",
          "shell.execute_reply": "2022-01-17T14:04:09.319306Z"
        },
        "trusted": true,
        "id": "l3hm-S_4VX1b"
      },
      "execution_count": null,
      "outputs": []
    },
    {
      "cell_type": "markdown",
      "source": [
        "# Load signal data to an MNE Raw object\n",
        "Create Info object. input = channel list, data freq, channel types\n",
        "\n",
        "Create Raw object. input = the signal array and the Info object\n",
        "\n",
        "Set Raw object montage. After we attach a montage to the signal, we can display it in a topmap."
      ],
      "metadata": {
        "id": "RNOLRuC8VX1b"
      }
    },
    {
      "cell_type": "code",
      "source": [
        "info = mne.create_info(ch_names=channel_list_fixed, sfreq=256, ch_types=['eeg']*64)\n",
        "raw = mne.io.RawArray(signal_array, info)\n",
        "\n",
        "standard_1020_montage = mne.channels.make_standard_montage('standard_1020');\n",
        "raw.drop_channels(['X', 'Y', 'nd'])\n",
        "raw.set_montage(standard_1020_montage)"
      ],
      "metadata": {
        "execution": {
          "iopub.status.busy": "2022-01-17T14:00:23.597755Z",
          "iopub.execute_input": "2022-01-17T14:00:23.598045Z",
          "iopub.status.idle": "2022-01-17T14:00:24.204402Z",
          "shell.execute_reply.started": "2022-01-17T14:00:23.59802Z",
          "shell.execute_reply": "2022-01-17T14:00:24.203896Z"
        },
        "trusted": true,
        "id": "eTcDS-w4VX1b"
      },
      "execution_count": null,
      "outputs": []
    },
    {
      "cell_type": "markdown",
      "source": [
        "# Plot freqs"
      ],
      "metadata": {
        "id": "0rQrdImJVX1b"
      }
    },
    {
      "cell_type": "code",
      "source": [
        "raw.plot_psd();\n",
        "raw.plot_psd(average=True);"
      ],
      "metadata": {
        "execution": {
          "iopub.status.busy": "2022-01-17T14:00:26.830141Z",
          "iopub.execute_input": "2022-01-17T14:00:26.830617Z",
          "iopub.status.idle": "2022-01-17T14:00:29.146245Z",
          "shell.execute_reply.started": "2022-01-17T14:00:26.830554Z",
          "shell.execute_reply": "2022-01-17T14:00:29.145436Z"
        },
        "trusted": true,
        "id": "AIvldApIVX1b"
      },
      "execution_count": null,
      "outputs": []
    },
    {
      "cell_type": "markdown",
      "source": [
        "# Apply filter"
      ],
      "metadata": {
        "id": "Ms7Gqv4eVX1c"
      }
    },
    {
      "cell_type": "code",
      "source": [
        "raw_filtered = raw.copy().filter(8,30, verbose=False);\n",
        "raw_filtered.plot_psd();\n",
        "raw_filtered.plot_psd(average=True);"
      ],
      "metadata": {
        "execution": {
          "iopub.status.busy": "2022-01-17T14:01:04.612245Z",
          "iopub.execute_input": "2022-01-17T14:01:04.612557Z",
          "iopub.status.idle": "2022-01-17T14:01:05.366231Z",
          "shell.execute_reply.started": "2022-01-17T14:01:04.612524Z",
          "shell.execute_reply": "2022-01-17T14:01:05.365322Z"
        },
        "trusted": true,
        "id": "kGiIBjwyVX1c"
      },
      "execution_count": null,
      "outputs": []
    },
    {
      "cell_type": "code",
      "source": [
        "plt.imshow(raw.get_data())\n",
        "plt.show()\n",
        "plt.imshow(raw.copy().filter(1,10, verbose=False).get_data());\n",
        "plt.show()\n",
        "plt.plot(raw.copy().get_data()[40])\n",
        "plt.plot(raw.copy().filter(8,30, verbose=False).get_data()[40])"
      ],
      "metadata": {
        "execution": {
          "iopub.status.busy": "2022-01-17T14:03:44.239723Z",
          "iopub.execute_input": "2022-01-17T14:03:44.240001Z",
          "iopub.status.idle": "2022-01-17T14:03:44.806568Z",
          "shell.execute_reply.started": "2022-01-17T14:03:44.239973Z",
          "shell.execute_reply": "2022-01-17T14:03:44.805824Z"
        },
        "trusted": true,
        "id": "BNmXemC1VX1c"
      },
      "execution_count": null,
      "outputs": []
    },
    {
      "cell_type": "markdown",
      "source": [
        "# ICA"
      ],
      "metadata": {
        "id": "0wuF1dyqVX1c"
      }
    },
    {
      "cell_type": "code",
      "source": [
        "ica = mne.preprocessing.ICA(random_state=42, n_components=20)\n",
        "ica.fit(raw.copy().filter(1,None, verbose=False), verbose=False)\n",
        "ica.plot_components()"
      ],
      "metadata": {
        "execution": {
          "iopub.status.busy": "2022-01-17T14:01:42.113879Z",
          "iopub.execute_input": "2022-01-17T14:01:42.114178Z",
          "iopub.status.idle": "2022-01-17T14:01:50.103498Z",
          "shell.execute_reply.started": "2022-01-17T14:01:42.114148Z",
          "shell.execute_reply": "2022-01-17T14:01:50.102738Z"
        },
        "trusted": true,
        "id": "gVQKKDHtVX1c"
      },
      "execution_count": null,
      "outputs": []
    },
    {
      "cell_type": "markdown",
      "source": [
        "# Plot a topographic map as an image"
      ],
      "metadata": {
        "id": "jROmBisjVX1c"
      }
    },
    {
      "cell_type": "code",
      "source": [
        "def plot_eeg_topomap(signal_array, save_path_animation=None, show_names=False, start_time=0.05, end_time=1, step_size=0.1):\n",
        "    # select channel X,Y format\n",
        "    montage = mne.channels.make_standard_montage('standard_1020')\n",
        "\n",
        "    # remove channels that don't have X,Y positions\n",
        "    ch_to_remove = []\n",
        "    for ch in channel_list_fixed:\n",
        "        if ch not in list(set(montage.ch_names).intersection(channel_list_fixed)):\n",
        "            ch_to_remove.append(channel_list_fixed.index(ch))\n",
        "    arr = np.delete(signal_array.copy(), ch_to_remove, axis=0)\n",
        "\n",
        "    # create info+evoked objects\n",
        "    info = mne.create_info(ch_names=list(set(montage.ch_names).intersection(channel_list_fixed)), sfreq=256, ch_types='eeg')\n",
        "    evoked = mne.EvokedArray(arr, info)\n",
        "\n",
        "    # set channel X,Y positions\n",
        "    evoked.set_montage(montage)\n",
        "\n",
        "    # plot img\n",
        "    evoked.plot_topomap(np.arange(start_time, end_time, step_size), ch_type='eeg', time_unit='s', ncols=5, nrows=2, show_names=show_names);"
      ],
      "metadata": {
        "execution": {
          "iopub.status.busy": "2022-01-17T14:06:45.782631Z",
          "iopub.execute_input": "2022-01-17T14:06:45.782965Z",
          "iopub.status.idle": "2022-01-17T14:06:45.792529Z",
          "shell.execute_reply.started": "2022-01-17T14:06:45.782931Z",
          "shell.execute_reply": "2022-01-17T14:06:45.791536Z"
        },
        "trusted": true,
        "id": "Aq5IraWcVX1c"
      },
      "execution_count": null,
      "outputs": []
    },
    {
      "cell_type": "code",
      "source": [
        "plot_eeg_topomap(signal_array, show_names=False)"
      ],
      "metadata": {
        "execution": {
          "iopub.status.busy": "2022-01-17T14:06:46.702498Z",
          "iopub.execute_input": "2022-01-17T14:06:46.702928Z",
          "iopub.status.idle": "2022-01-17T14:06:49.35533Z",
          "shell.execute_reply.started": "2022-01-17T14:06:46.702896Z",
          "shell.execute_reply": "2022-01-17T14:06:49.35443Z"
        },
        "trusted": true,
        "id": "MHNeR9o6VX1c"
      },
      "execution_count": null,
      "outputs": []
    },
    {
      "cell_type": "markdown",
      "source": [
        "# Plot a topographic map as an animation"
      ],
      "metadata": {
        "id": "C5Mc6FddVX1c"
      }
    },
    {
      "cell_type": "code",
      "source": [
        "def plot_eeg_topomap_animation(signal_array, save_path_animation, start_time=0.00, end_time=1, step_size=0.01, frame_rate=10):\n",
        "    # select channel X,Y format\n",
        "    montage = mne.channels.make_standard_montage('standard_1020')\n",
        "\n",
        "    # remove channels that don't have X,Y positions\n",
        "    ch_to_remove = []\n",
        "    for ch in channel_list_fixed:\n",
        "        if ch not in list(set(montage.ch_names).intersection(channel_list_fixed)):\n",
        "            ch_to_remove.append(channel_list_fixed.index(ch))\n",
        "    arr = np.delete(signal_array.copy(), ch_to_remove, axis=0)\n",
        "\n",
        "    # create info+evoked objects\n",
        "    info = mne.create_info(ch_names=list(set(montage.ch_names).intersection(channel_list_fixed)), sfreq=256, ch_types='eeg')\n",
        "    evoked = mne.EvokedArray(arr, info)\n",
        "\n",
        "    # set channel X,Y positions\n",
        "    evoked.set_montage(montage)\n",
        "\n",
        "    # (optional) plot and save animation\n",
        "    if save_path_animation:\n",
        "        fig, anim = evoked.animate_topomap(times=np.arange(start_time, end_time, step_size), frame_rate=frame_rate, butterfly=True, blit=False, );\n",
        "        anim.save(save_path_animation);\n",
        "        print('saved to', save_path_animation)"
      ],
      "metadata": {
        "execution": {
          "iopub.status.busy": "2022-01-17T14:06:59.488793Z",
          "iopub.execute_input": "2022-01-17T14:06:59.489317Z",
          "iopub.status.idle": "2022-01-17T14:06:59.500136Z",
          "shell.execute_reply.started": "2022-01-17T14:06:59.489285Z",
          "shell.execute_reply": "2022-01-17T14:06:59.499155Z"
        },
        "trusted": true,
        "id": "29LQmcNgVX1c"
      },
      "execution_count": null,
      "outputs": []
    },
    {
      "cell_type": "code",
      "source": [
        "plot_eeg_topomap_animation(signal_array, './gif.gif')"
      ],
      "metadata": {
        "execution": {
          "iopub.status.busy": "2022-01-17T14:05:06.158106Z",
          "iopub.execute_input": "2022-01-17T14:05:06.158654Z",
          "iopub.status.idle": "2022-01-17T14:05:28.353974Z",
          "shell.execute_reply.started": "2022-01-17T14:05:06.158618Z",
          "shell.execute_reply": "2022-01-17T14:05:28.352976Z"
        },
        "trusted": true,
        "id": "CDERFTqFVX1c"
      },
      "execution_count": null,
      "outputs": []
    },
    {
      "cell_type": "markdown",
      "source": [
        "![](./gif.gif)"
      ],
      "metadata": {
        "id": "p8_Uno-UVX1c"
      }
    },
    {
      "cell_type": "code",
      "source": [],
      "metadata": {
        "execution": {
          "iopub.status.busy": "2022-01-17T14:05:28.356032Z",
          "iopub.execute_input": "2022-01-17T14:05:28.35636Z",
          "iopub.status.idle": "2022-01-17T14:05:30.986347Z",
          "shell.execute_reply.started": "2022-01-17T14:05:28.356334Z",
          "shell.execute_reply": "2022-01-17T14:05:30.985397Z"
        },
        "trusted": true,
        "id": "2jqhO9QSVX1c"
      },
      "execution_count": null,
      "outputs": []
    },
    {
      "cell_type": "code",
      "source": [
        "def plot_eeg_joint_topomap(signal_array, save_path_animation=None, show_names=False, start_time=0.05, end_time=1, step_size=0.1):\n",
        "    # select channel X,Y format\n",
        "    montage = mne.channels.make_standard_montage('standard_1020')\n",
        "\n",
        "    # remove channels that don't have X,Y positions\n",
        "    ch_to_remove = []\n",
        "    for ch in channel_list_fixed:\n",
        "        if ch not in list(set(montage.ch_names).intersection(channel_list_fixed)):\n",
        "            ch_to_remove.append(channel_list_fixed.index(ch))\n",
        "    arr = np.delete(signal_array.copy(), ch_to_remove, axis=0)\n",
        "\n",
        "    # create info+evoked objects\n",
        "    info = mne.create_info(ch_names=list(set(montage.ch_names).intersection(channel_list_fixed)), sfreq=256, ch_types='eeg')\n",
        "    evoked = mne.EvokedArray(arr, info)\n",
        "\n",
        "    # set channel X,Y positions\n",
        "    evoked.set_montage(montage)\n",
        "\n",
        "    # plot img\n",
        "    evoked.plot_joint();\n",
        "\n",
        "plot_eeg_joint_topomap(signal_array)"
      ],
      "metadata": {
        "execution": {
          "iopub.status.busy": "2022-01-17T14:07:06.010649Z",
          "iopub.execute_input": "2022-01-17T14:07:06.010944Z",
          "iopub.status.idle": "2022-01-17T14:07:07.327049Z",
          "shell.execute_reply.started": "2022-01-17T14:07:06.010894Z",
          "shell.execute_reply": "2022-01-17T14:07:07.32639Z"
        },
        "trusted": true,
        "id": "a2stEfhIVX1c"
      },
      "execution_count": null,
      "outputs": []
    },
    {
      "cell_type": "code",
      "source": [
        "#https://www.youtube.com/watch?v=wNIaT1UT6rI&list=PLXtvZiGkmNVvPS0N9UNBVkIFe0_0t_Nqt&index=3"
      ],
      "metadata": {
        "execution": {
          "iopub.status.busy": "2022-01-17T14:05:32.498236Z",
          "iopub.execute_input": "2022-01-17T14:05:32.498456Z",
          "iopub.status.idle": "2022-01-17T14:05:32.502457Z",
          "shell.execute_reply.started": "2022-01-17T14:05:32.498431Z",
          "shell.execute_reply": "2022-01-17T14:05:32.501681Z"
        },
        "trusted": true,
        "id": "Yx6cZnKDVX1c"
      },
      "execution_count": null,
      "outputs": []
    }
  ]
}